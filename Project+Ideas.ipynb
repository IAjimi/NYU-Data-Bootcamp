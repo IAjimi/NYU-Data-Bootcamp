{
 "cells": [
  {
   "cell_type": "markdown",
   "metadata": {},
   "source": [
    "# Data Bootcamp Project Ideas"
   ]
  },
  {
   "cell_type": "markdown",
   "metadata": {},
   "source": [
    "## Project Idea 1: Macro-economics -- updating the relationship between Interest Rates, Inflation, and Unemployment Rate"
   ]
  },
  {
   "cell_type": "markdown",
   "metadata": {},
   "source": [
    "The characteristics of the U.S. economy have changed considerably since the 1970-80s, yet the priority of the Central Bank remains inflation targeting/stability. Is high inflation still a relevant concern or should the Feds Funds Rate be used to achieve other policy goals (e.g. low unemployment rate)? This project would include a retrospective of the U.S. economy since the early 2000s, with an emphasis on inflation (consumer price changes), monetary policy, and an overview of the future policy implications of the findings. "
   ]
  },
  {
   "cell_type": "markdown",
   "metadata": {},
   "source": [
    "Possible structure:\n",
    "- Global overview of main macro-economic indicators of the U.S. from 2000 to 2017\n",
    "- Focus/zoom in on monetary policy\n",
    "   - what were the policy objectives? were they achieved?\n",
    "- Explain low inflation\n",
    "   - look at change in price and consumption weights of different goods & services\n",
    "- Looking at current macro-economic indicators + analysis above, what are policy implications?\n",
    "   - are we close to high employment? are we at risk of high inflation soon? etc"
   ]
  },
  {
   "cell_type": "markdown",
   "metadata": {},
   "source": [
    "The variables would mainly come from FRED and other data sources as needed:\n",
    "- \"FEDFUNDS\" : Effective Federal Funds Rate (monthly, percent, not seasonally adjusted)\n",
    "- \"CPIAUCSL\": Consumer Price Index for All Urban Consumers (All Items) (monthly, Index 1982-1984=100, seasonally adjusted)\n",
    "  - ideally, looks at the change and price and weight of specific goods/services to determine what factors (besides low consumer confidence) are responsible for today's low inflation rate. \n",
    "  - possible suspects include: saturated good markets -> price competition, increased spending on tech items w/ high, regular decreases in price, ... \n",
    "- \"LRUN64TTUSM156S\": Unemployment Rate: Aged 15-64 (All Persons for the United States) (monthly, precentage, seasonally adjusted)\n",
    "- \"A191RP1Q027SBEA\": Gross Domestic Product (quarterly, percent change from preceding period, seasonally adjusted)"
   ]
  },
  {
   "cell_type": "markdown",
   "metadata": {},
   "source": [
    "## Project Idea 2: 50 years of New York City Urban Development"
   ]
  },
  {
   "cell_type": "markdown",
   "metadata": {},
   "source": [
    "New York City has considerably changed since the 1970s -- but how? This project proposes to use demographic, economic and political (e.g. election results) data to better understand how NYC has evolved. Hopefully the city itself or the U.S. census has fine grained (hopefully at the zipcode level) data. The project is wide enough in scope to yield interesting exploratory results (think cool color coded maps) but could also be used to try to predict the future of the city (future housing trends, rent changes). "
   ]
  },
  {
   "cell_type": "markdown",
   "metadata": {},
   "source": [
    "Variables of interest at the Zipcode level:\n",
    "- highest level of education achieved\n",
    "- income\n",
    "- crime rate\n",
    "- commute rate/subway usage rates\n",
    "- rents\n",
    "- business composition"
   ]
  },
  {
   "cell_type": "markdown",
   "metadata": {},
   "source": [
    "## Project Idea 3: Predicting Results of Contested/Competitive U.S. House/Senate Elections"
   ]
  },
  {
   "cell_type": "markdown",
   "metadata": {},
   "source": [
    "Elections have been on everyone's minds since the 2016 Presidential election. This project looks at the recent (post 2000s) electoral trends in the U.S. at the national and state level, alongside other contributing factors, to better understand what determines electoral success and where the country is headed."
   ]
  },
  {
   "cell_type": "markdown",
   "metadata": {},
   "source": [
    "Analysis of the potential determinants of electoral success for politicians:\n",
    "- macro-economic conditions\n",
    "- strength of political party nationally/on average\n",
    "- regional/local demographics\n",
    "- campaign spending\n",
    "- brand name recognition\n",
    "- previous office experience\n",
    "- incumbency advantage\n",
    "- others?"
   ]
  },
  {
   "cell_type": "markdown",
   "metadata": {},
   "source": [
    "Potential structure:\n",
    "- look at electoral breakdown for previous years\n",
    "  - winner v. runner-up characteristics\n",
    "  - state political trends\n",
    "    - 2016 presidential election\n",
    "- regression analysis (logit): probability of winning for candidate given factors outlined above"
   ]
  },
  {
   "cell_type": "code",
   "execution_count": null,
   "metadata": {
    "collapsed": true
   },
   "outputs": [],
   "source": []
  }
 ],
 "metadata": {
  "kernelspec": {
   "display_name": "Python 3",
   "language": "python",
   "name": "python3"
  },
  "language_info": {
   "codemirror_mode": {
    "name": "ipython",
    "version": 3
   },
   "file_extension": ".py",
   "mimetype": "text/x-python",
   "name": "python",
   "nbconvert_exporter": "python",
   "pygments_lexer": "ipython3",
   "version": "3.6.3"
  }
 },
 "nbformat": 4,
 "nbformat_minor": 2
}
