{
 "cells": [
  {
   "cell_type": "markdown",
   "metadata": {},
   "source": [
    "# Data Bootcamp Project Outline\n",
    "## Inès Ajimi"
   ]
  },
  {
   "cell_type": "markdown",
   "metadata": {},
   "source": [
    "### New York City Snapchot"
   ]
  },
  {
   "cell_type": "markdown",
   "metadata": {},
   "source": [
    "New York City has considerably changed in the past ten years -- but how?\n",
    "\n",
    "The project will focus on current concerns about the **geographic dispersion of socio-economic inequality** in NYC, at a census tract level. The project is wide enough in scope to yield interesting exploratory results (think cool color coded maps) but could also be used to try to predict future changes in the city (particularly housing trends). "
   ]
  },
  {
   "cell_type": "markdown",
   "metadata": {},
   "source": [
    "So far, the project relies primarily on the **American Community Survey**. The ACS is a 5-year survey of various demographic, social, economic, and housing characteristics. Their smallest unit, the census tract, is small enough to provide a fine-grained view of NYC."
   ]
  },
  {
   "cell_type": "markdown",
   "metadata": {},
   "source": [
    "Variables of interest at the Census Tract level:\n",
    "- Total Population\n",
    "  - by sex, age, origin, household type\n",
    "- Population per Acre (population density)\n",
    "- School Enrollment \n",
    "- Educational Attainment\n",
    "- Employment Status\n",
    "- Occupation\n",
    "- Commute Time + Mode of Commute\n",
    "- Income\n",
    "  - incl % below poverty line\n",
    "- Health Insurance Coverage by type\n",
    "- Housing\n",
    "  -  age, n# rooms, rent as % of income"
   ]
  },
  {
   "cell_type": "markdown",
   "metadata": {},
   "source": [
    "There are two problems with the ACS:\n",
    "- it is fairly recent so only goes back to +- 2005\n",
    "- it's survey data, so subject to sampling error"
   ]
  },
  {
   "cell_type": "markdown",
   "metadata": {
    "collapsed": true
   },
   "source": [
    "The project would have the following structure:\n",
    "- look at some salient facts of the city today\n",
    "  - who lives where, earns what, etc\n",
    "- use older ACS data to observe socio-economic changes in neighborhoods, paying specific attention to issues of income and racial inequality\n",
    "- if time and resources allow, use additional information (e.g. Yelp API + NYC Open Data) to find out *what drives the location-decision of individuals*\n",
    "  - rents, public 'goods' (e.g. parks, response time to 311 calls), access to subway, quality of schools, attractiveness of location (possible proxy: filming permits, \"hotness\" of nearby bars/restaurants measured by Yelp reviews), etc\n",
    "  - a concern about the above is whether the geographic unit of analysis can be matched to the ACS\n",
    "\n",
    "Using mapping & geo-visualization packages."
   ]
  },
  {
   "cell_type": "markdown",
   "metadata": {},
   "source": [
    "--- "
   ]
  },
  {
   "cell_type": "markdown",
   "metadata": {},
   "source": [
    "#### Current Progress"
   ]
  },
  {
   "cell_type": "code",
   "execution_count": 1,
   "metadata": {
    "collapsed": true
   },
   "outputs": [],
   "source": [
    "import pandas as pd\n",
    "import numpy  as np\n",
    "import matplotlib.pyplot as plt\n",
    "\n",
    "from census import Census\n",
    "from us import states"
   ]
  },
  {
   "cell_type": "code",
   "execution_count": 2,
   "metadata": {
    "collapsed": true
   },
   "outputs": [],
   "source": [
    "my_api_key = 'put key here' \n",
    "c = Census(my_api_key)"
   ]
  },
  {
   "cell_type": "markdown",
   "metadata": {},
   "source": [
    "I use the census API to retrieve information pertaining to every *county tract* in NYC. These are a few examples of variables I could use for my project."
   ]
  },
  {
   "cell_type": "code",
   "execution_count": 3,
   "metadata": {
    "collapsed": true
   },
   "outputs": [],
   "source": [
    "code = (\"NAME\",\"B01001_001E\", \"B00002_001E\", \"B00002_001E\", \"B02001_002E\", \"B02001_003E\", \"B02001_005E\", \"B02001_008E\",\n",
    "       \"B03003_001E\", \"B07001_001E\", \"B07004A_001E\", \"B07004B_001E\", \"B08303_001E\", \"B08302_001E\") \n",
    "nyc = c.acs5.state_county_tract(code,  states.NY.fips, \"061\", Census.ALL) #061 is NYC county's fips code\n",
    "nyc = pd.DataFrame(nyc)"
   ]
  },
  {
   "cell_type": "code",
   "execution_count": 4,
   "metadata": {
    "collapsed": true
   },
   "outputs": [],
   "source": [
    "nyc = nyc.rename(columns = {'B00002_001E': 'housing_units', 'B01001_001E': 'pop', 'B02001_002E': 'white', 'B02001_003E': 'af_am',\n",
    "       'B02001_005E': 'asian', 'B02001_008E': 'mixed', 'B03003_001E': 'hisp', 'B07001_001E': 'geomob',\n",
    "       'B07004A_001E': 'geomob_white', 'B07004B_001E': 'geomob_af_am', 'B08303_001E': 'travel_time_work', \n",
    "                            'B08302_001E': 'time_leave4_work', 'NAME': 'name'    \n",
    "})"
   ]
  },
  {
   "cell_type": "code",
   "execution_count": 6,
   "metadata": {},
   "outputs": [
    {
     "data": {
      "text/html": [
       "<div>\n",
       "<style>\n",
       "    .dataframe thead tr:only-child th {\n",
       "        text-align: right;\n",
       "    }\n",
       "\n",
       "    .dataframe thead th {\n",
       "        text-align: left;\n",
       "    }\n",
       "\n",
       "    .dataframe tbody tr th {\n",
       "        vertical-align: top;\n",
       "    }\n",
       "</style>\n",
       "<table border=\"1\" class=\"dataframe\">\n",
       "  <thead>\n",
       "    <tr style=\"text-align: right;\">\n",
       "      <th></th>\n",
       "      <th>housing_units</th>\n",
       "      <th>pop</th>\n",
       "      <th>white</th>\n",
       "      <th>af_am</th>\n",
       "      <th>asian</th>\n",
       "      <th>mixed</th>\n",
       "      <th>hisp</th>\n",
       "      <th>geomob</th>\n",
       "      <th>geomob_white</th>\n",
       "      <th>geomob_af_am</th>\n",
       "      <th>time_leave4_work</th>\n",
       "      <th>travel_time_work</th>\n",
       "      <th>name</th>\n",
       "      <th>county</th>\n",
       "      <th>state</th>\n",
       "      <th>tract</th>\n",
       "    </tr>\n",
       "  </thead>\n",
       "  <tbody>\n",
       "    <tr>\n",
       "      <th>0</th>\n",
       "      <td>0.0</td>\n",
       "      <td>0.0</td>\n",
       "      <td>0.0</td>\n",
       "      <td>0.0</td>\n",
       "      <td>0.0</td>\n",
       "      <td>0.0</td>\n",
       "      <td>0.0</td>\n",
       "      <td>0.0</td>\n",
       "      <td>0.0</td>\n",
       "      <td>0.0</td>\n",
       "      <td>0.0</td>\n",
       "      <td>0.0</td>\n",
       "      <td>Census Tract 1, New York County, New York</td>\n",
       "      <td>061</td>\n",
       "      <td>36</td>\n",
       "      <td>000100</td>\n",
       "    </tr>\n",
       "    <tr>\n",
       "      <th>1</th>\n",
       "      <td>83.0</td>\n",
       "      <td>2791.0</td>\n",
       "      <td>643.0</td>\n",
       "      <td>179.0</td>\n",
       "      <td>1310.0</td>\n",
       "      <td>20.0</td>\n",
       "      <td>2791.0</td>\n",
       "      <td>2791.0</td>\n",
       "      <td>643.0</td>\n",
       "      <td>179.0</td>\n",
       "      <td>1056.0</td>\n",
       "      <td>1056.0</td>\n",
       "      <td>Census Tract 2.01, New York County, New York</td>\n",
       "      <td>061</td>\n",
       "      <td>36</td>\n",
       "      <td>000201</td>\n",
       "    </tr>\n",
       "    <tr>\n",
       "      <th>2</th>\n",
       "      <td>160.0</td>\n",
       "      <td>7768.0</td>\n",
       "      <td>2853.0</td>\n",
       "      <td>1141.0</td>\n",
       "      <td>2186.0</td>\n",
       "      <td>462.0</td>\n",
       "      <td>7768.0</td>\n",
       "      <td>7768.0</td>\n",
       "      <td>2853.0</td>\n",
       "      <td>1141.0</td>\n",
       "      <td>2386.0</td>\n",
       "      <td>2386.0</td>\n",
       "      <td>Census Tract 2.02, New York County, New York</td>\n",
       "      <td>061</td>\n",
       "      <td>36</td>\n",
       "      <td>000202</td>\n",
       "    </tr>\n",
       "  </tbody>\n",
       "</table>\n",
       "</div>"
      ],
      "text/plain": [
       "   housing_units     pop   white   af_am   asian  mixed    hisp  geomob  \\\n",
       "0            0.0     0.0     0.0     0.0     0.0    0.0     0.0     0.0   \n",
       "1           83.0  2791.0   643.0   179.0  1310.0   20.0  2791.0  2791.0   \n",
       "2          160.0  7768.0  2853.0  1141.0  2186.0  462.0  7768.0  7768.0   \n",
       "\n",
       "   geomob_white  geomob_af_am  time_leave4_work  travel_time_work  \\\n",
       "0           0.0           0.0               0.0               0.0   \n",
       "1         643.0         179.0            1056.0            1056.0   \n",
       "2        2853.0        1141.0            2386.0            2386.0   \n",
       "\n",
       "                                           name county state   tract  \n",
       "0     Census Tract 1, New York County, New York    061    36  000100  \n",
       "1  Census Tract 2.01, New York County, New York    061    36  000201  \n",
       "2  Census Tract 2.02, New York County, New York    061    36  000202  "
      ]
     },
     "execution_count": 6,
     "metadata": {},
     "output_type": "execute_result"
    }
   ],
   "source": [
    "nyc.head(3)"
   ]
  },
  {
   "cell_type": "markdown",
   "metadata": {},
   "source": [
    "The names of the census tracts are fairly uninformative (where's census tract 2.02, census tract 5?) so I merge the table with [NYC Planning](https://www1.nyc.gov/site/planning/data-maps/nyc-population/geographic-reference.page)'s Census Tract to Neighborhood Tabulation Area conversion table."
   ]
  },
  {
   "cell_type": "code",
   "execution_count": 7,
   "metadata": {
    "collapsed": true
   },
   "outputs": [],
   "source": [
    "neighb = pd.read_excel(r\"https://www1.nyc.gov/assets/planning/download/office/data-maps/nyc-population/census2010/nyc2010census_tabulation_equiv.xlsx\", skiprows = 3)"
   ]
  },
  {
   "cell_type": "markdown",
   "metadata": {},
   "source": [
    "Since we are going to merge these two datasets, we need to make sure they are 'compatible'. This involves renaming columns and checking that the columns we're going to merge on have the same keys.\n",
    "\n",
    "We first rename the columns and keep only the columns of interest in the conversion table dataframe:"
   ]
  },
  {
   "cell_type": "code",
   "execution_count": 8,
   "metadata": {},
   "outputs": [
    {
     "data": {
      "text/plain": [
       "Index(['Borough', '2010 Census Bureau FIPS County Code',\n",
       "       '2010 NYC Borough Code', '2010 Census Tract', 'PUMA',\n",
       "       'Neighborhood Tabulation Area (NTA)', 'Unnamed: 6'],\n",
       "      dtype='object')"
      ]
     },
     "execution_count": 8,
     "metadata": {},
     "output_type": "execute_result"
    }
   ],
   "source": [
    "neighb.columns"
   ]
  },
  {
   "cell_type": "code",
   "execution_count": 9,
   "metadata": {
    "collapsed": true
   },
   "outputs": [],
   "source": [
    "neighb = neighb.rename(columns = {'2010 Census Tract': 'tract', '2010 Census Bureau FIPS County Code': 'county', \n",
    "                                  'Unnamed: 6': 'neighborhood'})"
   ]
  },
  {
   "cell_type": "code",
   "execution_count": 10,
   "metadata": {
    "collapsed": true
   },
   "outputs": [],
   "source": [
    "neighb = neighb[[\"tract\", \"county\", \"neighborhood\"]]"
   ]
  },
  {
   "cell_type": "markdown",
   "metadata": {},
   "source": [
    "Then we check the dtypes of both DFs:"
   ]
  },
  {
   "cell_type": "code",
   "execution_count": 11,
   "metadata": {},
   "outputs": [
    {
     "data": {
      "text/plain": [
       "tract           float64\n",
       "county          float64\n",
       "neighborhood     object\n",
       "dtype: object"
      ]
     },
     "execution_count": 11,
     "metadata": {},
     "output_type": "execute_result"
    }
   ],
   "source": [
    "neighb.dtypes"
   ]
  },
  {
   "cell_type": "code",
   "execution_count": 12,
   "metadata": {},
   "outputs": [
    {
     "data": {
      "text/plain": [
       "tract     object\n",
       "county    object\n",
       "dtype: object"
      ]
     },
     "execution_count": 12,
     "metadata": {},
     "output_type": "execute_result"
    }
   ],
   "source": [
    "nyc[[\"tract\", \"county\"]].dtypes"
   ]
  },
  {
   "cell_type": "markdown",
   "metadata": {},
   "source": [
    "There is a clear problem here. The columns that are going to be used as keys are of different types. Moreover, they are formatted differently: the county column in the neighborhood is missing \"00\" at the beginning."
   ]
  },
  {
   "cell_type": "code",
   "execution_count": 13,
   "metadata": {
    "collapsed": true
   },
   "outputs": [],
   "source": [
    "neighb[\"tract\"] = neighb[\"tract\"].apply(lambda x: int(x) if x == x else \"\").apply(lambda x: (\"00\" + str(x)) if x == x else \"\")\n",
    "neighb[\"county\"] = neighb[\"county\"].apply(lambda x: int(x) if x == x else \"\").apply(lambda x: (\"0\" + str(x)) if x == x else \"\")"
   ]
  },
  {
   "cell_type": "code",
   "execution_count": 14,
   "metadata": {},
   "outputs": [
    {
     "data": {
      "text/plain": [
       "tract           object\n",
       "county          object\n",
       "neighborhood    object\n",
       "dtype: object"
      ]
     },
     "execution_count": 14,
     "metadata": {},
     "output_type": "execute_result"
    }
   ],
   "source": [
    "neighb.dtypes"
   ]
  },
  {
   "cell_type": "markdown",
   "metadata": {},
   "source": [
    "Let's now merge the datasets."
   ]
  },
  {
   "cell_type": "code",
   "execution_count": 15,
   "metadata": {
    "collapsed": true
   },
   "outputs": [],
   "source": [
    "nyc = pd.merge(nyc, neighb, on  = (\"county\", \"tract\"), how = \"left\")"
   ]
  },
  {
   "cell_type": "markdown",
   "metadata": {},
   "source": [
    "#### Removing NAs"
   ]
  },
  {
   "cell_type": "markdown",
   "metadata": {},
   "source": [
    "Some census tracts are missing data -- signalled by a 0 population count. I remove these observations."
   ]
  },
  {
   "cell_type": "code",
   "execution_count": 16,
   "metadata": {
    "collapsed": true
   },
   "outputs": [],
   "source": [
    "nyc = nyc[(nyc[\"pop\"] > 0) & (nyc[\"housing_units\"] > 0)]"
   ]
  },
  {
   "cell_type": "markdown",
   "metadata": {},
   "source": [
    "#### Demographics"
   ]
  },
  {
   "cell_type": "code",
   "execution_count": 17,
   "metadata": {
    "collapsed": true
   },
   "outputs": [],
   "source": [
    "for i in [\"white\", \"af_am\", \"asian\", \"mixed\", \"hisp\"]:\n",
    "    name = \"per_\" + i\n",
    "    nyc[name] = nyc[i] / nyc[\"pop\"]"
   ]
  },
  {
   "cell_type": "code",
   "execution_count": 18,
   "metadata": {
    "collapsed": true
   },
   "outputs": [],
   "source": [
    "nyc[\"density\"] = nyc[\"pop\"]/nyc[\"housing_units\"]"
   ]
  },
  {
   "cell_type": "markdown",
   "metadata": {},
   "source": [
    "Let's look at what we have for NYU's neighborhood:"
   ]
  },
  {
   "cell_type": "code",
   "execution_count": 19,
   "metadata": {},
   "outputs": [
    {
     "data": {
      "text/html": [
       "<div>\n",
       "<style>\n",
       "    .dataframe thead tr:only-child th {\n",
       "        text-align: right;\n",
       "    }\n",
       "\n",
       "    .dataframe thead th {\n",
       "        text-align: left;\n",
       "    }\n",
       "\n",
       "    .dataframe tbody tr th {\n",
       "        vertical-align: top;\n",
       "    }\n",
       "</style>\n",
       "<table border=\"1\" class=\"dataframe\">\n",
       "  <thead>\n",
       "    <tr style=\"text-align: right;\">\n",
       "      <th></th>\n",
       "      <th>housing_units</th>\n",
       "      <th>pop</th>\n",
       "      <th>white</th>\n",
       "      <th>af_am</th>\n",
       "      <th>asian</th>\n",
       "      <th>mixed</th>\n",
       "      <th>hisp</th>\n",
       "      <th>geomob</th>\n",
       "      <th>geomob_white</th>\n",
       "      <th>geomob_af_am</th>\n",
       "      <th>...</th>\n",
       "      <th>county</th>\n",
       "      <th>state</th>\n",
       "      <th>tract</th>\n",
       "      <th>neighborhood</th>\n",
       "      <th>per_white</th>\n",
       "      <th>per_af_am</th>\n",
       "      <th>per_asian</th>\n",
       "      <th>per_mixed</th>\n",
       "      <th>per_hisp</th>\n",
       "      <th>density</th>\n",
       "    </tr>\n",
       "  </thead>\n",
       "  <tbody>\n",
       "    <tr>\n",
       "      <th>34</th>\n",
       "      <td>157.0</td>\n",
       "      <td>6476.0</td>\n",
       "      <td>5104.0</td>\n",
       "      <td>96.0</td>\n",
       "      <td>960.0</td>\n",
       "      <td>151.0</td>\n",
       "      <td>6476.0</td>\n",
       "      <td>6476.0</td>\n",
       "      <td>5104.0</td>\n",
       "      <td>96.0</td>\n",
       "      <td>...</td>\n",
       "      <td>061</td>\n",
       "      <td>36</td>\n",
       "      <td>003400</td>\n",
       "      <td>East Village</td>\n",
       "      <td>0.788141</td>\n",
       "      <td>0.014824</td>\n",
       "      <td>0.14824</td>\n",
       "      <td>0.023317</td>\n",
       "      <td>1.0</td>\n",
       "      <td>41.248408</td>\n",
       "    </tr>\n",
       "  </tbody>\n",
       "</table>\n",
       "<p>1 rows × 23 columns</p>\n",
       "</div>"
      ],
      "text/plain": [
       "    housing_units     pop   white  af_am  asian  mixed    hisp  geomob  \\\n",
       "34          157.0  6476.0  5104.0   96.0  960.0  151.0  6476.0  6476.0   \n",
       "\n",
       "    geomob_white  geomob_af_am    ...      county  state   tract  \\\n",
       "34        5104.0          96.0    ...         061     36  003400   \n",
       "\n",
       "    neighborhood per_white per_af_am per_asian  per_mixed  per_hisp    density  \n",
       "34  East Village  0.788141  0.014824   0.14824   0.023317       1.0  41.248408  \n",
       "\n",
       "[1 rows x 23 columns]"
      ]
     },
     "execution_count": 19,
     "metadata": {},
     "output_type": "execute_result"
    }
   ],
   "source": [
    "nyc[nyc[\"tract\"] == \"003400\"]"
   ]
  },
  {
   "cell_type": "markdown",
   "metadata": {},
   "source": [
    "--- "
   ]
  }
 ],
 "metadata": {
  "kernelspec": {
   "display_name": "Python 3",
   "language": "python",
   "name": "python3"
  },
  "language_info": {
   "codemirror_mode": {
    "name": "ipython",
    "version": 3
   },
   "file_extension": ".py",
   "mimetype": "text/x-python",
   "name": "python",
   "nbconvert_exporter": "python",
   "pygments_lexer": "ipython3",
   "version": "3.6.3"
  }
 },
 "nbformat": 4,
 "nbformat_minor": 2
}
